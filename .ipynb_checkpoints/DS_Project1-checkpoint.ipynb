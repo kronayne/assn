{
 "cells": [
  {
   "cell_type": "code",
   "execution_count": 3,
   "id": "208c615b",
   "metadata": {},
   "outputs": [],
   "source": [
    "import os\n",
    "import json\n",
    "import numpy\n",
    "import datetime\n",
    "import pandas as pd\n",
    "\n",
    "import pymongo\n",
    "from sqlalchemy import create_engine"
   ]
  },
  {
   "cell_type": "code",
   "execution_count": 5,
   "id": "05e7fb70",
   "metadata": {},
   "outputs": [],
   "source": [
    "host_name = \"localhost\"\n",
    "ports = {\"mongo\" : 27017, \"mysql\" : 3306}\n",
    "\n",
    "user_id = \"root\"\n",
    "pwd = \"%\"\n",
    "\n",
    "src_dbname = \"love_island\" #what create in mongo\n",
    "dst_dbname = \"love_island_sql\" #destination db"
   ]
  },
  {
   "cell_type": "markdown",
   "id": "f76b8cc3",
   "metadata": {},
   "source": [
    "### Convert Format"
   ]
  },
  {
   "cell_type": "markdown",
   "id": "37d51044",
   "metadata": {},
   "source": [
    "Convert the general format and data structure of the data source (from\n",
    "JSON to CSV, from CSV to JSON, from JSON into a SQL database table, etc. I want the option to convert any source to any target. So, if I get a CSV as an input, I want the user to choose an output)"
   ]
  },
  {
   "cell_type": "code",
   "execution_count": 12,
   "id": "6d7e1992",
   "metadata": {},
   "outputs": [
    {
     "data": {
      "text/html": [
       "<div>\n",
       "<style scoped>\n",
       "    .dataframe tbody tr th:only-of-type {\n",
       "        vertical-align: middle;\n",
       "    }\n",
       "\n",
       "    .dataframe tbody tr th {\n",
       "        vertical-align: top;\n",
       "    }\n",
       "\n",
       "    .dataframe thead th {\n",
       "        text-align: right;\n",
       "    }\n",
       "</style>\n",
       "<table border=\"1\" class=\"dataframe\">\n",
       "  <thead>\n",
       "    <tr style=\"text-align: right;\">\n",
       "      <th></th>\n",
       "      <th>Season</th>\n",
       "      <th>Name</th>\n",
       "      <th>Gender</th>\n",
       "      <th>Age</th>\n",
       "      <th>Ethnicity</th>\n",
       "      <th>Town</th>\n",
       "      <th>Job</th>\n",
       "      <th>Status</th>\n",
       "      <th>Days on show</th>\n",
       "      <th>Entrance Day</th>\n",
       "    </tr>\n",
       "  </thead>\n",
       "  <tbody>\n",
       "    <tr>\n",
       "      <th>0</th>\n",
       "      <td>1</td>\n",
       "      <td>Ben Porter</td>\n",
       "      <td>Male</td>\n",
       "      <td>24</td>\n",
       "      <td>White</td>\n",
       "      <td>Wakefield</td>\n",
       "      <td>Junior manager</td>\n",
       "      <td>Dumped</td>\n",
       "      <td>2.0</td>\n",
       "      <td>32.0</td>\n",
       "    </tr>\n",
       "    <tr>\n",
       "      <th>1</th>\n",
       "      <td>1</td>\n",
       "      <td>Bethany Rogers</td>\n",
       "      <td>Female</td>\n",
       "      <td>19</td>\n",
       "      <td>White</td>\n",
       "      <td>Leeds</td>\n",
       "      <td>Dancer</td>\n",
       "      <td>Dumped</td>\n",
       "      <td>8.0</td>\n",
       "      <td>14.0</td>\n",
       "    </tr>\n",
       "    <tr>\n",
       "      <th>2</th>\n",
       "      <td>1</td>\n",
       "      <td>Cally Jane Beech</td>\n",
       "      <td>Female</td>\n",
       "      <td>23</td>\n",
       "      <td>White</td>\n",
       "      <td>Hull</td>\n",
       "      <td>Dental nurse</td>\n",
       "      <td>Dumped</td>\n",
       "      <td>21.0</td>\n",
       "      <td>21.0</td>\n",
       "    </tr>\n",
       "    <tr>\n",
       "      <th>3</th>\n",
       "      <td>1</td>\n",
       "      <td>Chris Baxter</td>\n",
       "      <td>Male</td>\n",
       "      <td>20</td>\n",
       "      <td>White</td>\n",
       "      <td>London</td>\n",
       "      <td>Personal trainer</td>\n",
       "      <td>Dumped</td>\n",
       "      <td>3.0</td>\n",
       "      <td>11.0</td>\n",
       "    </tr>\n",
       "    <tr>\n",
       "      <th>4</th>\n",
       "      <td>1</td>\n",
       "      <td>Chris Williamson</td>\n",
       "      <td>Male</td>\n",
       "      <td>27</td>\n",
       "      <td>White</td>\n",
       "      <td>Newcastle</td>\n",
       "      <td>Model and club promoter</td>\n",
       "      <td>Dumped</td>\n",
       "      <td>19.0</td>\n",
       "      <td>1.0</td>\n",
       "    </tr>\n",
       "    <tr>\n",
       "      <th>...</th>\n",
       "      <td>...</td>\n",
       "      <td>...</td>\n",
       "      <td>...</td>\n",
       "      <td>...</td>\n",
       "      <td>...</td>\n",
       "      <td>...</td>\n",
       "      <td>...</td>\n",
       "      <td>...</td>\n",
       "      <td>...</td>\n",
       "      <td>...</td>\n",
       "    </tr>\n",
       "    <tr>\n",
       "      <th>132</th>\n",
       "      <td>5</td>\n",
       "      <td>Molly-Mae Hague</td>\n",
       "      <td>Female</td>\n",
       "      <td>19</td>\n",
       "      <td>White</td>\n",
       "      <td>Manchester</td>\n",
       "      <td>Social media influencer</td>\n",
       "      <td>Participating</td>\n",
       "      <td>NaN</td>\n",
       "      <td>NaN</td>\n",
       "    </tr>\n",
       "    <tr>\n",
       "      <th>133</th>\n",
       "      <td>5</td>\n",
       "      <td>Sherif Lanre</td>\n",
       "      <td>Male</td>\n",
       "      <td>20</td>\n",
       "      <td>Black</td>\n",
       "      <td>London</td>\n",
       "      <td>Chef</td>\n",
       "      <td>Removed</td>\n",
       "      <td>9.0</td>\n",
       "      <td>1.0</td>\n",
       "    </tr>\n",
       "    <tr>\n",
       "      <th>134</th>\n",
       "      <td>5</td>\n",
       "      <td>Tom Walker</td>\n",
       "      <td>Male</td>\n",
       "      <td>29</td>\n",
       "      <td>White</td>\n",
       "      <td>Leeds</td>\n",
       "      <td>Model</td>\n",
       "      <td>Participating</td>\n",
       "      <td>NaN</td>\n",
       "      <td>NaN</td>\n",
       "    </tr>\n",
       "    <tr>\n",
       "      <th>135</th>\n",
       "      <td>5</td>\n",
       "      <td>Tommy Fury</td>\n",
       "      <td>Male</td>\n",
       "      <td>20</td>\n",
       "      <td>White</td>\n",
       "      <td>Manchester</td>\n",
       "      <td>Professional boxer</td>\n",
       "      <td>Participating</td>\n",
       "      <td>NaN</td>\n",
       "      <td>NaN</td>\n",
       "    </tr>\n",
       "    <tr>\n",
       "      <th>136</th>\n",
       "      <td>5</td>\n",
       "      <td>Yewande Biala</td>\n",
       "      <td>Female</td>\n",
       "      <td>23</td>\n",
       "      <td>Black</td>\n",
       "      <td>Dublin</td>\n",
       "      <td>Scientist</td>\n",
       "      <td>Participating</td>\n",
       "      <td>NaN</td>\n",
       "      <td>NaN</td>\n",
       "    </tr>\n",
       "  </tbody>\n",
       "</table>\n",
       "<p>137 rows × 10 columns</p>\n",
       "</div>"
      ],
      "text/plain": [
       "     Season              Name  Gender  Age Ethnicity        Town  \\\n",
       "0         1        Ben Porter    Male   24     White   Wakefield   \n",
       "1         1    Bethany Rogers  Female   19     White       Leeds   \n",
       "2         1  Cally Jane Beech  Female   23     White        Hull   \n",
       "3         1      Chris Baxter    Male   20     White      London   \n",
       "4         1  Chris Williamson    Male   27     White   Newcastle   \n",
       "..      ...               ...     ...  ...       ...         ...   \n",
       "132       5   Molly-Mae Hague  Female   19     White  Manchester   \n",
       "133       5      Sherif Lanre    Male   20     Black      London   \n",
       "134       5        Tom Walker    Male   29     White       Leeds   \n",
       "135       5        Tommy Fury    Male   20     White  Manchester   \n",
       "136       5     Yewande Biala  Female   23     Black      Dublin   \n",
       "\n",
       "                         Job         Status  Days on show  Entrance Day  \n",
       "0             Junior manager         Dumped           2.0          32.0  \n",
       "1                     Dancer         Dumped           8.0          14.0  \n",
       "2               Dental nurse         Dumped          21.0          21.0  \n",
       "3           Personal trainer         Dumped           3.0          11.0  \n",
       "4    Model and club promoter         Dumped          19.0           1.0  \n",
       "..                       ...            ...           ...           ...  \n",
       "132  Social media influencer  Participating           NaN           NaN  \n",
       "133                     Chef        Removed           9.0           1.0  \n",
       "134                    Model  Participating           NaN           NaN  \n",
       "135       Professional boxer  Participating           NaN           NaN  \n",
       "136                Scientist  Participating           NaN           NaN  \n",
       "\n",
       "[137 rows x 10 columns]"
      ]
     },
     "execution_count": 12,
     "metadata": {},
     "output_type": "execute_result"
    }
   ],
   "source": [
    "pd.read_csv('love_island_contestants.csv')"
   ]
  },
  {
   "cell_type": "markdown",
   "id": "f43cc583",
   "metadata": {},
   "source": [
    "### Modify columns"
   ]
  },
  {
   "cell_type": "markdown",
   "id": "53e5c9db",
   "metadata": {},
   "source": [
    "Modify the number of columns from the source to the destination,reducing or adding columns."
   ]
  },
  {
   "cell_type": "code",
   "execution_count": null,
   "id": "f5b18d53",
   "metadata": {},
   "outputs": [],
   "source": []
  },
  {
   "cell_type": "markdown",
   "id": "841d04f1",
   "metadata": {},
   "source": [
    "### Write to SQL Database"
   ]
  },
  {
   "cell_type": "markdown",
   "id": "5f2c186c",
   "metadata": {},
   "source": [
    "The converted (new) file should be written to disk (local file) or written to a SQL database."
   ]
  },
  {
   "cell_type": "code",
   "execution_count": null,
   "id": "1b44da41",
   "metadata": {},
   "outputs": [],
   "source": []
  },
  {
   "cell_type": "markdown",
   "id": "12f21390",
   "metadata": {},
   "source": [
    "### Summary"
   ]
  },
  {
   "cell_type": "markdown",
   "id": "8056d275",
   "metadata": {},
   "source": [
    "Generate a brief summary of the data file ingestion including:\n",
    "a) Number of records\n",
    "b) Number of columns"
   ]
  },
  {
   "cell_type": "code",
   "execution_count": null,
   "id": "2d45cc87",
   "metadata": {},
   "outputs": [],
   "source": []
  },
  {
   "cell_type": "markdown",
   "id": "b4289745",
   "metadata": {},
   "source": [
    "### Error Catching"
   ]
  },
  {
   "cell_type": "code",
   "execution_count": null,
   "id": "f440173b",
   "metadata": {},
   "outputs": [],
   "source": []
  }
 ],
 "metadata": {
  "kernelspec": {
   "display_name": "Python 3 (ipykernel)",
   "language": "python",
   "name": "python3"
  },
  "language_info": {
   "codemirror_mode": {
    "name": "ipython",
    "version": 3
   },
   "file_extension": ".py",
   "mimetype": "text/x-python",
   "name": "python",
   "nbconvert_exporter": "python",
   "pygments_lexer": "ipython3",
   "version": "3.9.7"
  }
 },
 "nbformat": 4,
 "nbformat_minor": 5
}
