{
 "cells": [
  {
   "cell_type": "code",
   "execution_count": 2,
   "id": "208c615b",
   "metadata": {},
   "outputs": [],
   "source": [
    "import os\n",
    "import json\n",
    "import numpy\n",
    "import datetime\n",
    "import pandas as pd\n",
    "\n",
    "import pymongo\n",
    "from sqlalchemy import create_engine"
   ]
  },
  {
   "cell_type": "code",
   "execution_count": 6,
   "id": "05e7fb70",
   "metadata": {},
   "outputs": [],
   "source": [
    "host_name = \"localhost\"\n",
    "ports = {\"mongo\" : 27017, \"mysql\" : 3306}\n",
    "\n",
    "user_id = \"root\"\n",
    "pwd = \"%\"\n",
    "\n",
    "src_dbname = \"love_island\" #what create in mongo\n",
    "dst_dbname = \"love_island_sql\" #destination db"
   ]
  },
  {
   "cell_type": "markdown",
   "id": "f76b8cc3",
   "metadata": {},
   "source": [
    "### Convert Format"
   ]
  },
  {
   "cell_type": "markdown",
   "id": "37d51044",
   "metadata": {},
   "source": [
    "Convert the general format and data structure of the data source (from\n",
    "JSON to CSV, from CSV to JSON, from JSON into a SQL database table, etc. I want the option to convert any source to any target. So, if I get a CSV as an input, I want the user to choose an output)"
   ]
  },
  {
   "cell_type": "code",
   "execution_count": 17,
   "id": "6d7e1992",
   "metadata": {},
   "outputs": [],
   "source": [
    "df = pd.read_csv('love_island_contestants.csv')"
   ]
  },
  {
   "cell_type": "code",
   "execution_count": null,
   "id": "a1228dd7",
   "metadata": {},
   "outputs": [],
   "source": []
  },
  {
   "cell_type": "code",
   "execution_count": null,
   "id": "71e88a50",
   "metadata": {},
   "outputs": [],
   "source": []
  },
  {
   "cell_type": "code",
   "execution_count": null,
   "id": "d55039bf",
   "metadata": {},
   "outputs": [],
   "source": [
    "db_name = \"contestants\""
   ]
  },
  {
   "cell_type": "markdown",
   "id": "f43cc583",
   "metadata": {},
   "source": [
    "### Modify columns"
   ]
  },
  {
   "cell_type": "markdown",
   "id": "53e5c9db",
   "metadata": {},
   "source": [
    "Modify the number of columns from the source to the destination,reducing or adding columns."
   ]
  },
  {
   "cell_type": "code",
   "execution_count": null,
   "id": "f5b18d53",
   "metadata": {},
   "outputs": [],
   "source": []
  },
  {
   "cell_type": "markdown",
   "id": "841d04f1",
   "metadata": {},
   "source": [
    "### Write to SQL Database"
   ]
  },
  {
   "cell_type": "markdown",
   "id": "5f2c186c",
   "metadata": {},
   "source": [
    "The converted (new) file should be written to disk (local file) or written to a SQL database."
   ]
  },
  {
   "cell_type": "code",
   "execution_count": null,
   "id": "1b44da41",
   "metadata": {},
   "outputs": [],
   "source": []
  },
  {
   "cell_type": "markdown",
   "id": "12f21390",
   "metadata": {},
   "source": [
    "### Summary"
   ]
  },
  {
   "cell_type": "markdown",
   "id": "8056d275",
   "metadata": {},
   "source": [
    "Generate a brief summary of the data file ingestion including:\n",
    "a) Number of records\n",
    "b) Number of columns"
   ]
  },
  {
   "cell_type": "code",
   "execution_count": null,
   "id": "2d45cc87",
   "metadata": {},
   "outputs": [],
   "source": []
  },
  {
   "cell_type": "markdown",
   "id": "b4289745",
   "metadata": {},
   "source": [
    "### Error Catching"
   ]
  },
  {
   "cell_type": "code",
   "execution_count": null,
   "id": "f440173b",
   "metadata": {},
   "outputs": [],
   "source": []
  }
 ],
 "metadata": {
  "kernelspec": {
   "display_name": "Python 3 (ipykernel)",
   "language": "python",
   "name": "python3"
  },
  "language_info": {
   "codemirror_mode": {
    "name": "ipython",
    "version": 3
   },
   "file_extension": ".py",
   "mimetype": "text/x-python",
   "name": "python",
   "nbconvert_exporter": "python",
   "pygments_lexer": "ipython3",
   "version": "3.9.7"
  }
 },
 "nbformat": 4,
 "nbformat_minor": 5
}
